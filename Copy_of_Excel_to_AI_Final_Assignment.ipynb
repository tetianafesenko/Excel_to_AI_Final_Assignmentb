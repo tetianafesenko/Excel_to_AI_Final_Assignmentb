{
  "nbformat": 4,
  "nbformat_minor": 0,
  "metadata": {
    "colab": {
      "provenance": [],
      "include_colab_link": true
    },
    "kernelspec": {
      "name": "python3",
      "display_name": "Python 3"
    },
    "language_info": {
      "name": "python"
    }
  },
  "cells": [
    {
      "cell_type": "markdown",
      "metadata": {
        "id": "view-in-github",
        "colab_type": "text"
      },
      "source": [
        "<a href=\"https://colab.research.google.com/github/tetianafesenko/Excel_to_AI_Final_Assignmentb/blob/main/Copy_of_Excel_to_AI_Final_Assignment.ipynb\" target=\"_parent\"><img src=\"https://colab.research.google.com/assets/colab-badge.svg\" alt=\"Open In Colab\"/></a>"
      ]
    },
    {
      "cell_type": "markdown",
      "source": [
        "<img src=\"https://drive.google.com/uc?export=view&id=1JWBkqufaNILdD1hBknloAxyZItZBhsXr\" width=\"500\"/>"
      ],
      "metadata": {
        "id": "bHxz46xt66sw"
      }
    },
    {
      "cell_type": "markdown",
      "source": [
        "# Welcome to the Excel to AI Workshop!\n",
        "\n",
        "This program is offered by the Vector Institute for professionals who wish to explore some of the concepts discussed during the theory section. No prior coding experience is required.\n",
        "\n",
        "**Instructors:** Flora Wan (Technical Education Specialist), Michael Joseph (Technical Education Specialist), Aida Mirebrahimi (AI Education Intern), Reginald Molokwu (AI Education Intern)\n",
        "\n",
        "**Course Developers:** Diana Moyano (Project Manager), Yinka Oladimeji (Technical Education Specialist) and Andres Rojas (Director of Applied Projects)\n",
        "\n",
        "**Course Director:** Sedef Kocak, Director of Professional Development at Vector Institute\n",
        " \n",
        "***Never stop learning!***"
      ],
      "metadata": {
        "id": "aZ8p7QWO67uK"
      }
    },
    {
      "cell_type": "markdown",
      "source": [
        "**Dataset**: Complete list of the world's highest-paid athletes published by Forbes since 1990"
      ],
      "metadata": {
        "id": "r6OVHh3oJfeY"
      }
    },
    {
      "cell_type": "markdown",
      "source": [
        "# Prepare the data"
      ],
      "metadata": {
        "id": "xqwvOwaWJpq2"
      }
    },
    {
      "cell_type": "markdown",
      "source": [
        "Import the Pandas library"
      ],
      "metadata": {
        "id": "NSXMjmnl6uyi"
      }
    },
    {
      "cell_type": "code",
      "execution_count": null,
      "metadata": {
        "id": "xbOcUeNVU3-H"
      },
      "outputs": [],
      "source": [
        "import pandas as pd"
      ]
    },
    {
      "cell_type": "markdown",
      "source": [
        "Load the dataset"
      ],
      "metadata": {
        "id": "hzYaNDQj6p_P"
      }
    },
    {
      "cell_type": "code",
      "source": [
        "#Load the dataset\n",
        "atl = pd.read_csv('https://raw.githubusercontent.com/DianaMoyano1/Python_EDAs/main/Various/athletes.csv')\n",
        "atl.head() #Show the first 5 rows "
      ],
      "metadata": {
        "id": "kab6-QoUVKox"
      },
      "execution_count": null,
      "outputs": []
    },
    {
      "cell_type": "code",
      "source": [
        "#Get all the available sports in the dataset - unique values\n",
        "atl[\"Sport\"].unique()"
      ],
      "metadata": {
        "id": "H5cXzgB6BesZ"
      },
      "execution_count": null,
      "outputs": []
    },
    {
      "cell_type": "markdown",
      "source": [
        "## Question: Who are the top 7 highest paid athletes of all time?"
      ],
      "metadata": {
        "id": "5yC-PLVHr5HZ"
      }
    },
    {
      "cell_type": "markdown",
      "source": [
        "**Hint:** please refer to [Day 2's notebook](https://colab.research.google.com/drive/18o2idR0Yh1S8PLMj2ew79aQpLvcuMZff?usp=sharing) - section: What are the 10 products with the highest sales? (use the index on the left panel to find that section). *Note that some athletes names could appear more than once in this dataset*\n"
      ],
      "metadata": {
        "id": "_5m04NtyCW5y"
      }
    },
    {
      "cell_type": "markdown",
      "source": [
        "\n",
        "Please produce a table and a plot that answer this question (you can use any visualization tool - Pandas, Seaborn, Matplotlib)"
      ],
      "metadata": {
        "id": "CllzG2Jw2tOi"
      }
    },
    {
      "cell_type": "code",
      "source": [
        "# Import libraries\n",
        "import seaborn as sns\n",
        "import matplotlib.pyplot as plt"
      ],
      "metadata": {
        "id": "SHP3T-Bc1fND"
      },
      "execution_count": null,
      "outputs": []
    },
    {
      "cell_type": "code",
      "source": [
        "# Produce a table that shows who are the highest paid athletes\n",
        "\n",
        "\n"
      ],
      "metadata": {
        "id": "thYZneYDIwXY"
      },
      "execution_count": null,
      "outputs": []
    },
    {
      "cell_type": "code",
      "source": [
        "# Create a bar plot that visualizes the results\n",
        "\n",
        "\n"
      ],
      "metadata": {
        "id": "frfgIZzF1haL"
      },
      "execution_count": null,
      "outputs": []
    },
    {
      "cell_type": "markdown",
      "source": [
        "# You have completed the Final Assignment\n",
        "\n",
        "This program is offered by the Vector Institute for professionals who wish to explore some of the concepts discussed during the theory section. No prior coding experience is required.\n",
        "\n",
        "**Instructors:** Flora Wan (Technical Education Specialist), Michael Joseph (Technical Education Specialist), Aida Mirebrahimi (AI Education Intern), Reginald Molokwu (AI Education Intern)\n",
        "\n",
        "**Course Developers:** Diana Moyano (Project Manager), Yinka Oladimeji (Technical Education Specialist) and Andres Rojas (Director of Applied Projects)\n",
        "\n",
        "**Course Director:** Sedef Kocak, Director of Professional Development at Vector Institute\n",
        " \n",
        "***Never stop learning!***"
      ],
      "metadata": {
        "id": "uosiTW6K7Axd"
      }
    }
  ]
}